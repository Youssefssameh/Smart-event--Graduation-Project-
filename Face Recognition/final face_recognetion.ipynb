{
 "cells": [
  {
   "cell_type": "code",
   "execution_count": 5,
   "id": "348d7a6f",
   "metadata": {},
   "outputs": [],
   "source": [
    "import face_recognition\n",
    "import cv2\n",
    "from datetime import datetime\n",
    "import json\n",
    "import os\n",
    "import numpy as np\n",
    "\n",
    "# Path to the face database\n",
    "database_path = \"face_data.json\"\n",
    "\n",
    "# 1. Encode initial images and store them with additional data\n",
    "def encode_images(image_folder):\n",
    "    face_data = {}\n",
    "    \n",
    "    for image_name in os.listdir(image_folder):\n",
    "        if image_name.endswith(('.jpg', '.png')):\n",
    "            image_path = os.path.join(image_folder, image_name)\n",
    "            image = face_recognition.load_image_file(image_path)\n",
    "            encoding = face_recognition.face_encodings(image)\n",
    "            \n",
    "            if encoding:\n",
    "                name = os.path.splitext(image_name)[0]\n",
    "                face_data[name] = {\n",
    "                    \"encoding\": encoding[0].tolist(),\n",
    "                    \"phone\": \"123456789\",\n",
    "                    \"email\": f\"{name}@example.com\"\n",
    "                }\n",
    "    \n",
    "    with open(database_path, 'w') as f:\n",
    "        json.dump(face_data, f)\n",
    "    \n",
    "    print(\"All images have been encoded and saved.\")\n",
    "\n",
    "# 2. Add a new user to the database\n",
    "def add_new_user(image_path, user_name, phone, email):\n",
    "    image = face_recognition.load_image_file(image_path)\n",
    "    encoding = face_recognition.face_encodings(image)\n",
    "    \n",
    "    if encoding:\n",
    "        try:\n",
    "            with open(database_path, 'r') as f:\n",
    "                face_data = json.load(f)\n",
    "        except FileNotFoundError:\n",
    "            face_data = {}\n",
    "\n",
    "        face_data[user_name] = {\n",
    "            \"encoding\": encoding[0].tolist(),\n",
    "            \"phone\": phone,\n",
    "            \"email\": email\n",
    "        }\n",
    "        \n",
    "        with open(database_path, 'w') as f:\n",
    "            json.dump(face_data, f)\n",
    "        \n",
    "        print(f\"User {user_name} added successfully.\")\n",
    "    else:\n",
    "        print(\"No face found in the image.\")\n",
    "\n",
    "# 3. Run real-time face recognition and record attendance\n",
    "attendance_report = {}\n",
    "\n",
    "def load_database():\n",
    "    with open(database_path, 'r') as f:\n",
    "        face_data = json.load(f)\n",
    "    \n",
    "    known_names = list(face_data.keys())\n",
    "    known_encodings = [np.array(face_data[name][\"encoding\"]) for name in known_names]\n",
    "    user_info = {name: {\"phone\": face_data[name][\"phone\"], \"email\": face_data[name][\"email\"]} for name in known_names}\n",
    "    \n",
    "    return known_names, known_encodings, user_info\n",
    "\n",
    "def recognize_faces_in_real_time():\n",
    "    known_names, known_encodings, user_info = load_database()\n",
    "    video_capture = cv2.VideoCapture(0)\n",
    "    \n",
    "    while True:\n",
    "        ret, frame = video_capture.read()\n",
    "        if not ret:\n",
    "            break\n",
    "        \n",
    "        small_frame = cv2.resize(frame, (0, 0), fx=0.5, fy=0.5)\n",
    "        rgb_small_frame = cv2.cvtColor(small_frame, cv2.COLOR_BGR2RGB)\n",
    "        \n",
    "        face_locations = face_recognition.face_locations(rgb_small_frame)\n",
    "        face_encodings = face_recognition.face_encodings(rgb_small_frame, face_locations)\n",
    "        \n",
    "        for face_encoding, face_location in zip(face_encodings, face_locations):\n",
    "            matches = face_recognition.compare_faces(known_encodings, face_encoding)\n",
    "            name = \"Unknown\"\n",
    "            \n",
    "            if True in matches:\n",
    "                first_match_index = matches.index(True)\n",
    "                name = known_names[first_match_index]\n",
    "                \n",
    "                if name not in attendance_report:\n",
    "                    attendance_report[name] = {\n",
    "                        \"time\": datetime.now().strftime(\"%Y-%m-%d %H:%M:%S\"),\n",
    "                        \"phone\": user_info[name][\"phone\"],\n",
    "                        \"email\": user_info[name][\"email\"]\n",
    "                    }\n",
    "                    print(f\"{name} attended. Details: Phone - {user_info[name]['phone']}, Email - {user_info[name]['email']}\")\n",
    "\n",
    "            # Draw a rectangle around the face and display the name\n",
    "            top, right, bottom, left = face_location\n",
    "            top, right, bottom, left = top * 2, right * 2, bottom * 2, left * 2\n",
    "            cv2.rectangle(frame, (left, top), (right, bottom), (0, 255, 0), 2)\n",
    "            cv2.putText(frame, name, (left + 6, bottom - 6), cv2.FONT_HERSHEY_SIMPLEX, 0.5, (0, 255, 0), 1)\n",
    "        \n",
    "        cv2.imshow('Face Recognition', frame)\n",
    "        \n",
    "        # Press 'r' to reload the database, or 'q' to quit\n",
    "        key = cv2.waitKey(1) & 0xFF\n",
    "        if key == ord('r'):\n",
    "            known_names, known_encodings, user_info = load_database()\n",
    "            print(\"Database reloaded.\")\n",
    "        elif key == ord('q'):\n",
    "            break\n",
    "    \n",
    "    video_capture.release()\n",
    "    cv2.destroyAllWindows()\n",
    "    save_attendance_report()\n",
    "\n",
    "def save_attendance_report(report_path=\"attendance_report.json\"):\n",
    "    with open(report_path, 'w') as f:\n",
    "        json.dump(attendance_report, f)\n",
    "    \n",
    "    print(\"Attendance report saved.\")\n",
    "\n",
    "# Usage steps:\n",
    "# 1. Encode initial images (run once)\n",
    "# encode_images(\"path/to/image_folder\")\n",
    "\n",
    "# 2. Add a new user\n",
    "# add_new_user(\"path/to/new_image.jpg\", \"User Name\", \"123456789\", \"user@example.com\")\n",
    "\n",
    "# 3. Run face recognition and record attendance\n",
    "# recognize_faces_in_real_time()\n"
   ]
  },
  {
   "cell_type": "code",
   "execution_count": 6,
   "id": "83576a6f",
   "metadata": {},
   "outputs": [
    {
     "name": "stdout",
     "output_type": "stream",
     "text": [
      "All images have been encoded and saved.\n"
     ]
    }
   ],
   "source": [
    "encode_images(\"Faces/\")"
   ]
  },
  {
   "cell_type": "code",
   "execution_count": 7,
   "id": "be0f9047",
   "metadata": {},
   "outputs": [
    {
     "name": "stdout",
     "output_type": "stream",
     "text": [
      "User ahmed hany added successfully.\n"
     ]
    }
   ],
   "source": [
    "add_new_user(\"new/Eng Ahmed Hany.jpg\", \"ahmed hany\", \"123456789\", \"ahmed@example.com\")"
   ]
  },
  {
   "cell_type": "code",
   "execution_count": 8,
   "id": "8dfba59c",
   "metadata": {},
   "outputs": [
    {
     "name": "stdout",
     "output_type": "stream",
     "text": [
      "Bola Emad attended. Details: Phone - 123456789, Email - Bola Emad@example.com\n",
      "Database reloaded.\n",
      "Attendance report saved.\n"
     ]
    }
   ],
   "source": [
    "recognize_faces_in_real_time()"
   ]
  },
  {
   "cell_type": "code",
   "execution_count": null,
   "id": "90991478",
   "metadata": {},
   "outputs": [],
   "source": []
  }
 ],
 "metadata": {
  "kernelspec": {
   "display_name": "Python 3 (ipykernel)",
   "language": "python",
   "name": "python3"
  },
  "language_info": {
   "codemirror_mode": {
    "name": "ipython",
    "version": 3
   },
   "file_extension": ".py",
   "mimetype": "text/x-python",
   "name": "python",
   "nbconvert_exporter": "python",
   "pygments_lexer": "ipython3",
   "version": "3.10.9"
  }
 },
 "nbformat": 4,
 "nbformat_minor": 5
}
